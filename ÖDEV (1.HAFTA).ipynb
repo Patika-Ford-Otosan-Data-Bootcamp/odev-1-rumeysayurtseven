{
 "cells": [
  {
   "cell_type": "markdown",
   "id": "7664e1ed-15af-448e-a5cf-7944fcc3a3cf",
   "metadata": {},
   "source": [
    "# **ÖDEV (1.HAFTA)**"
   ]
  },
  {
   "cell_type": "markdown",
   "id": "867899b1-2885-4470-956d-91b816ab51c5",
   "metadata": {
    "id": "39f94c75-97f6-4ad4-81c8-302be5c6fa77"
   },
   "source": [
    "1- İki çocuğunun yaşları toplamı 5'tir. 3 yıl sonra babanın yaşı çocukların yaşları toplamının 3 katı olacağına göre babanın bugünkü yaşı kaçtır? \n",
    "\n",
    "Denklemi python dilinde kurunuz ve çıktıyı print ediniz. "
   ]
  },
  {
   "cell_type": "code",
   "execution_count": 2,
   "id": "bde40d1d-9e56-413e-8b42-5b73f095644e",
   "metadata": {},
   "outputs": [
    {
     "name": "stdout",
     "output_type": "stream",
     "text": [
      "30\n"
     ]
    }
   ],
   "source": [
    "afterthreeyears = 11 # 3 yıl sonra iki cocuk toplamda 6 yas buyur\n",
    "baba = (afterthreeyears*3) - 3\n",
    "print(baba)"
   ]
  },
  {
   "cell_type": "markdown",
   "id": "301c8cbd-6617-4f3b-bd7e-e1ebc252c69d",
   "metadata": {
    "id": "6fb2cb52-65f0-4a80-a4f4-f31f7b70bf5f"
   },
   "source": [
    "2-_Veri bilimi, verilerden değer elde etmek için istatistik, bilimsel yöntemler, yapay zeka (AI) ve veri analizi dahil olmak üzere birçok alanı bir araya getirir. Veri Bilimiyle uğraşan kişilere veri bilimci denir. Bu kişiler web, akıllı telefonlar, müşteriler, sensörler ve diğer kaynaklardan toplanan verileri analiz etmek ve bunlardan eyleme dönüştürülebilir içgörüler üretmek amacıyla bir dizi beceriyi bir araya getirir._\n",
    "\n",
    "Yukarıda yer alan metindeki \"veri bilim\" kelimelerini bulup yerine \"VERİ BİLİM\" yazınız."
   ]
  },
  {
   "cell_type": "code",
   "execution_count": 2,
   "id": "66eaf7d7-e2ae-4ab0-be4c-bfc1f9e17578",
   "metadata": {},
   "outputs": [
    {
     "name": "stdout",
     "output_type": "stream",
     "text": [
      "VERI BILIMi, verilerden değer elde etmek için istatistik, bilimsel yöntemler, yapay zeka (ai) ve veri analizi dahil olmak üzere birçok alanı bir araya getirir. VERI BILIMiyle uğraşan kişilere VERI BILIMci denir. bu kişiler web, akıllı telefonlar, müşteriler, sensörler ve diğer kaynaklardan toplanan verileri analiz etmek ve bunlardan eyleme dönüştürülebilir içgörüler üretmek amacıyla bir dizi beceriyi bir araya getirir.\n"
     ]
    }
   ],
   "source": [
    "ourtext = \"Veri bilimi, verilerden değer elde etmek için istatistik, bilimsel yöntemler, yapay zeka (AI) ve veri analizi dahil olmak üzere birçok alanı bir araya getirir. Veri Bilimiyle uğraşan kişilere veri bilimci denir. Bu kişiler web, akıllı telefonlar, müşteriler, sensörler ve diğer kaynaklardan toplanan verileri analiz etmek ve bunlardan eyleme dönüştürülebilir içgörüler üretmek amacıyla bir dizi beceriyi bir araya getirir.\"\n",
    "ourtext = ourtext.lower()\n",
    "makeupper = \"veri bilim\".upper()\n",
    "ourtext = ourtext.replace(\"veri bilim\",makeupper)\n",
    "print(ourtext)"
   ]
  },
  {
   "cell_type": "markdown",
   "id": "9e1b9eb4-caf3-49b5-8180-55fe6595515e",
   "metadata": {
    "id": "bc97013a-39a7-465c-89e4-41420aaa2655"
   },
   "source": [
    "3- Adını, soyadını, yaşını, yaşadığın şehri ve üniversite ortalamanı aralarında birer boşluk olacak şekilde tek bir print ifade içerisinde yazın."
   ]
  },
  {
   "cell_type": "code",
   "execution_count": 3,
   "id": "8fc36627-3883-4b6b-8c8b-9a2a22e3e9c9",
   "metadata": {},
   "outputs": [
    {
     "name": "stdout",
     "output_type": "stream",
     "text": [
      "Rumeysa Yurtseven 22 Istanbul 3.32\n"
     ]
    }
   ],
   "source": [
    "print(\"Rumeysa\" + \" Yurtseven \" + str(22) + \" Istanbul \" + str(3.32))"
   ]
  },
  {
   "cell_type": "markdown",
   "id": "92c851d1-873a-49b7-bc1c-b0cce03a893f",
   "metadata": {
    "id": "29ec9965-6933-45d7-9496-c42e94045e19"
   },
   "source": [
    "4- Veri bilimi günümüzün en heyecan verici alanlardan biridir.\n",
    "\n",
    "\"Veri bilimi\" ve \"alanlardan biridir.\" kelimelerini cümle içerisinden alınız ve her kelimeyi uzunlukları kadar aşağı doğru çoğaltarak print ediniz.\n",
    "\n",
    "NOT: \"\\n\" ifadesi alt satıra geçer "
   ]
  },
  {
   "cell_type": "code",
   "execution_count": 4,
   "id": "414a2725-01b6-4091-8f37-e89fd726ae09",
   "metadata": {},
   "outputs": [
    {
     "name": "stdout",
     "output_type": "stream",
     "text": [
      "Veri bilimi\n",
      "Veri bilimi\n",
      "Veri bilimi\n",
      "Veri bilimi\n",
      "Veri bilimi\n",
      "Veri bilimi\n",
      "Veri bilimi\n",
      "Veri bilimi\n",
      "Veri bilimi\n",
      "Veri bilimi\n",
      "Veri bilimi\n",
      "Veri bilimi\n",
      "\n",
      "alanlardan biridir.\n",
      "alanlardan biridir.\n",
      "alanlardan biridir.\n",
      "alanlardan biridir.\n",
      "alanlardan biridir.\n",
      "alanlardan biridir.\n",
      "alanlardan biridir.\n",
      "alanlardan biridir.\n",
      "alanlardan biridir.\n",
      "alanlardan biridir.\n",
      "alanlardan biridir.\n",
      "alanlardan biridir.\n",
      "alanlardan biridir.\n",
      "alanlardan biridir.\n",
      "alanlardan biridir.\n",
      "alanlardan biridir.\n",
      "alanlardan biridir.\n",
      "alanlardan biridir.\n",
      "alanlardan biridir.\n",
      "alanlardan biridir.\n",
      "\n"
     ]
    }
   ],
   "source": [
    "text1 = \"Veri bilimi günümüzün en heyecan verici alanlardan biridir.\"\n",
    "words = text1.split()\n",
    "words1 = words[0] + ' ' + words[1] + '\\n'\n",
    "words2 = words[6] + ' ' + words[7] + '\\n'\n",
    "print(len(words1)*words1)\n",
    "print(len(words2)*words2)"
   ]
  },
  {
   "cell_type": "markdown",
   "id": "f1978d1a-72e9-4f39-8c4f-5c33a1de2507",
   "metadata": {
    "id": "932dee64-3a37-41f6-8fc6-465f3c9560de"
   },
   "source": [
    "5- \"veri bilimi\" ve \"VERİ BİLİMİ\" kelimelerinden hangisi büyük hangisi küçük harf ile yazılmış kontrol ediniz.  \n",
    "\n",
    "Not: Hangi fonksiyonu kullanmanız gerektiğini dir() bulabilirsiniz. "
   ]
  },
  {
   "cell_type": "code",
   "execution_count": 41,
   "id": "4ffc8bed-2c66-46b6-88b6-3a75ec272b3a",
   "metadata": {},
   "outputs": [
    {
     "name": "stdout",
     "output_type": "stream",
     "text": [
      "True\n",
      "False\n",
      "True\n",
      "False\n"
     ]
    }
   ],
   "source": [
    "text1 = \"veri bilimi\"\n",
    "text2 = \"VERİ BİLİMİ\"\n",
    "print(text1.islower()) #check if it is lower\n",
    "print(text1.isupper()) #check if it is upper\n",
    "\n",
    "print(text2.isupper())\n",
    "print(text2.islower())"
   ]
  },
  {
   "cell_type": "markdown",
   "id": "06eed364-c09d-4596-bbec-8558c59eda95",
   "metadata": {},
   "source": [
    "6- adınız, soyadınız, yaşınız, yaşadğınız şehir ve universite not ortalamanız ile bir liste oluşturunuz. Oluşturduğunuz listeyi \"listem\" değişkeni olarak kaydedeiniz."
   ]
  },
  {
   "cell_type": "code",
   "execution_count": 4,
   "id": "d38b1b3f-35a5-4be1-95c8-fc5fbe567b29",
   "metadata": {},
   "outputs": [],
   "source": [
    "listem = [\"Rumeysa\", \"Yurtseven\", 22, \"Istanbul\", 3.32]"
   ]
  },
  {
   "cell_type": "markdown",
   "id": "21afac76-6ebb-4f45-bd50-07101121556f",
   "metadata": {},
   "source": [
    "7- \"listem\" değişkeni içerisinden yaşınızı, yaşadığınız şehiri ve universite not ortalamanızı seçerek \"listem2\" değişkenini oluşturunuz. "
   ]
  },
  {
   "cell_type": "code",
   "execution_count": 5,
   "id": "d1c438e8-f80d-4e93-ba65-5e2f95832d26",
   "metadata": {},
   "outputs": [
    {
     "name": "stdout",
     "output_type": "stream",
     "text": [
      "[22, 'Istanbul', 3.32]\n"
     ]
    }
   ],
   "source": [
    "listem2 = listem[2:]\n",
    "print(listem2)"
   ]
  },
  {
   "cell_type": "markdown",
   "id": "fa762a13-5d06-4571-bccb-d2a8dadbc1f6",
   "metadata": {},
   "source": [
    "8- \"listem2\" değişkeninin her bir elamanının türlerini yazdırınız."
   ]
  },
  {
   "cell_type": "code",
   "execution_count": 6,
   "id": "6f2cbe8d-3475-42e6-9018-eabae3b74771",
   "metadata": {},
   "outputs": [
    {
     "name": "stdout",
     "output_type": "stream",
     "text": [
      "<class 'int'>\n",
      "<class 'str'>\n",
      "<class 'float'>\n"
     ]
    }
   ],
   "source": [
    "for i in listem2:\n",
    "    print(type(i))"
   ]
  },
  {
   "cell_type": "markdown",
   "id": "3240b4e0-401c-4881-a9c1-ea2c0a0d520c",
   "metadata": {},
   "source": [
    "9- \"listem2\" değişkenine aşağıdaki listeyi LİSTE olarak ekleyiniz."
   ]
  },
  {
   "cell_type": "code",
   "execution_count": 7,
   "id": "b637b0c2-f310-4f58-9e87-8fa6813a5c12",
   "metadata": {},
   "outputs": [],
   "source": [
    "eklenecek_liste = [\"Ali\", 90, \"Mehmet\"]"
   ]
  },
  {
   "cell_type": "code",
   "execution_count": 8,
   "id": "336d023b-3d24-4a0b-a170-5979376d74ea",
   "metadata": {},
   "outputs": [
    {
     "data": {
      "text/plain": [
       "[22, 'Istanbul', 3.32, 'Ali', 90, 'Mehmet']"
      ]
     },
     "execution_count": 8,
     "metadata": {},
     "output_type": "execute_result"
    }
   ],
   "source": [
    "eklenecek_liste = [\"Ali\", 90, \"Mehmet\"]\n",
    "listem2 = listem2 + eklenecek_liste\n",
    "listem2"
   ]
  },
  {
   "cell_type": "markdown",
   "id": "1bd608d6-a894-45ea-9361-b289f10399dd",
   "metadata": {},
   "source": [
    "10- \"listem2\" değişkeninin içinden \"Ali\" ve \"90\" ı seçip Listem3 değişkenine atayınız. "
   ]
  },
  {
   "cell_type": "code",
   "execution_count": 9,
   "id": "f446d68d-e1ae-4ffa-87e0-29dcb7fcdf59",
   "metadata": {},
   "outputs": [
    {
     "data": {
      "text/plain": [
       "['Ali', 90]"
      ]
     },
     "execution_count": 9,
     "metadata": {},
     "output_type": "execute_result"
    }
   ],
   "source": [
    "listem3 = listem2[3:5]\n",
    "listem3"
   ]
  },
  {
   "cell_type": "markdown",
   "id": "7d55b88a-d277-46a3-a42b-84a96f29452a",
   "metadata": {},
   "source": [
    "11- \"listem2\" değişkenine Listem3 değişkenini ELEMAN olarak ekleyiniz."
   ]
  },
  {
   "cell_type": "code",
   "execution_count": 10,
   "id": "cf5ef975-53af-4e9f-ad56-6bcda069c743",
   "metadata": {},
   "outputs": [
    {
     "data": {
      "text/plain": [
       "[22, 'Istanbul', 3.32, 'Ali', 90, 'Mehmet', ['Ali', 90]]"
      ]
     },
     "execution_count": 10,
     "metadata": {},
     "output_type": "execute_result"
    }
   ],
   "source": [
    "listem2 = listem2 + [listem3]\n",
    "listem2"
   ]
  },
  {
   "cell_type": "markdown",
   "id": "d1026cbb-359d-41a8-b826-45db7448f895",
   "metadata": {},
   "source": [
    "12- \"listem2\" içerisinden 90 elemanını siliniz."
   ]
  },
  {
   "cell_type": "code",
   "execution_count": 11,
   "id": "06940736-b1ca-408e-a7d8-51ea727fb73e",
   "metadata": {},
   "outputs": [
    {
     "data": {
      "text/plain": [
       "[22, 'Istanbul', 3.32, 'Ali', 'Mehmet', ['Ali', 90]]"
      ]
     },
     "execution_count": 11,
     "metadata": {},
     "output_type": "execute_result"
    }
   ],
   "source": [
    "del listem2[4]\n",
    "listem2"
   ]
  },
  {
   "cell_type": "markdown",
   "id": "844e685e-c40e-45b5-8668-470399c158b5",
   "metadata": {},
   "source": [
    "13- 1'den 10'a kadar tüm rakamları azalacak şekilde sıralanmış şekilde bir liste oluşturunuz. \"yeni_liste\" değişkenine atayınız."
   ]
  },
  {
   "cell_type": "code",
   "execution_count": 12,
   "id": "3e05d11c-72d1-46c1-960b-cb1a8ddfc867",
   "metadata": {},
   "outputs": [
    {
     "data": {
      "text/plain": [
       "[10, 9, 8, 7, 6, 5, 4, 3, 2, 1]"
      ]
     },
     "execution_count": 12,
     "metadata": {},
     "output_type": "execute_result"
    }
   ],
   "source": [
    "yeni_liste = list(range(1,11))\n",
    "yeni_liste.reverse()\n",
    "yeni_liste"
   ]
  },
  {
   "cell_type": "markdown",
   "id": "27566aff-4d25-4f36-b477-30cc800772a0",
   "metadata": {},
   "source": [
    "14- \"yeni_liste\" değişkeninin içerisindeki 7 ve 2 elemanlarının yerlerini belirtiniz."
   ]
  },
  {
   "cell_type": "code",
   "execution_count": 26,
   "id": "0f96bbae-80f8-4d5a-8f50-9011099d72e9",
   "metadata": {},
   "outputs": [
    {
     "name": "stdout",
     "output_type": "stream",
     "text": [
      "3\n",
      "8\n"
     ]
    }
   ],
   "source": [
    "print(yeni_liste.index(7))\n",
    "print(yeni_liste.index(2))"
   ]
  },
  {
   "cell_type": "markdown",
   "id": "028d1129-dc6f-4c8c-8d16-a1979a0477bf",
   "metadata": {},
   "source": [
    "15- \"listem2\" üzerinden tuple oluşturunuz ve \"tuple1\" adını veriniz"
   ]
  },
  {
   "cell_type": "code",
   "execution_count": 13,
   "id": "b092d04f-df08-4d10-8d54-accc3593c31c",
   "metadata": {},
   "outputs": [
    {
     "data": {
      "text/plain": [
       "(22, 'Istanbul', 3.32, 'Ali', 'Mehmet', ['Ali', 90])"
      ]
     },
     "execution_count": 13,
     "metadata": {},
     "output_type": "execute_result"
    }
   ],
   "source": [
    "tuple1 = tuple(listem2)\n",
    "tuple1"
   ]
  },
  {
   "cell_type": "markdown",
   "id": "49a17cb5-ecd5-42b9-97fd-c4b830063500",
   "metadata": {},
   "source": [
    "16- \"tuple1\" değişkeni içerisindeki \"Ali\" yerine \"Veli\" yazınız."
   ]
  },
  {
   "cell_type": "code",
   "execution_count": 14,
   "id": "0b186666-83dd-4190-88af-ed8eb70c9d75",
   "metadata": {},
   "outputs": [
    {
     "name": "stdout",
     "output_type": "stream",
     "text": [
      "(22, 'Istanbul', 3.32, 'Veli', 'Mehmet', ['Ali', 90])\n"
     ]
    }
   ],
   "source": [
    "temp_list = list(tuple1)  #temporary list\n",
    "temp_list[3] = \"Veli\"\n",
    "tuple1 = tuple(temp_list)\n",
    "print(tuple1)"
   ]
  },
  {
   "cell_type": "markdown",
   "id": "b7bd6f45-4c77-476c-b41a-0f717f320389",
   "metadata": {},
   "source": [
    "17- 1'den 10'a kadar tüm rakamları azalacak şekilde sıralanmış şekilde bir tuple oluşturunuz. \"yeni_tuple\" değişkenine atayınız. (NOT: methodu siz bulacaksınız)"
   ]
  },
  {
   "cell_type": "code",
   "execution_count": 17,
   "id": "cc60989f-5bee-45da-a3ab-6bde35c16599",
   "metadata": {},
   "outputs": [
    {
     "data": {
      "text/plain": [
       "(10, 9, 8, 7, 6, 5, 4, 3, 2, 1)"
      ]
     },
     "execution_count": 17,
     "metadata": {},
     "output_type": "execute_result"
    }
   ],
   "source": [
    "yeni_tuple = []\n",
    "for i in range(10,0,-1):\n",
    "    yeni_tuple.append(i)\n",
    "yeni_tuple = tuple(yeni_tuple)\n",
    "yeni_tuple"
   ]
  },
  {
   "cell_type": "markdown",
   "id": "6216e50d-de9d-4e74-b243-9a000041d7eb",
   "metadata": {},
   "source": [
    "18- \"yeni_tuple\" değişkeninin içerisindeki 7 ve 2 elemanlarının yerlerini belirtiniz."
   ]
  },
  {
   "cell_type": "code",
   "execution_count": 18,
   "id": "a3a6a055-2946-431b-bc16-e2406573c2ba",
   "metadata": {},
   "outputs": [
    {
     "name": "stdout",
     "output_type": "stream",
     "text": [
      "3\n",
      "8\n"
     ]
    }
   ],
   "source": [
    "print(list(yeni_tuple).index(7))\n",
    "print(list(yeni_tuple).index(2))"
   ]
  },
  {
   "cell_type": "markdown",
   "id": "91b74e65-d5b7-4d1d-a1fd-7d8480640314",
   "metadata": {},
   "source": [
    "19- Aşağıda yer alan dictionary'nin içinden REG'in RMSE değerini, LOG'un MSE değerini ve CART'ın SSE değerini ayrı ayrı çekip yeni bir SET oluşturunuz. "
   ]
  },
  {
   "cell_type": "code",
   "execution_count": 19,
   "id": "4d349e7c-ca59-4a0e-b377-83f785301b92",
   "metadata": {},
   "outputs": [
    {
     "data": {
      "text/plain": [
       "{'MSE', 'RMSE', 'SSE'}"
      ]
     },
     "execution_count": 19,
     "metadata": {},
     "output_type": "execute_result"
    }
   ],
   "source": [
    "dictionary = {\"REG\": [\"RMSE\", 10],\n",
    "              \"LOG\": [\"MSE\", 20],\n",
    "              \"CART\": [\"SSE\", 10]}\n",
    "dict_set = set() #set from dictionary\n",
    "for key in dictionary:\n",
    "    dict_set.add(dictionary[key][0])\n",
    "    \n",
    "dict_set"
   ]
  },
  {
   "cell_type": "markdown",
   "id": "f519a647-99bd-4fda-b276-800020d6f083",
   "metadata": {},
   "source": [
    "20- CART değerini [\"SSE\", 30] olarak değiştiriniz. "
   ]
  },
  {
   "cell_type": "code",
   "execution_count": 20,
   "id": "5c542ae2-5f60-4d39-8305-bb6d55c6c0ac",
   "metadata": {},
   "outputs": [
    {
     "name": "stdout",
     "output_type": "stream",
     "text": [
      "{'REG': ['RMSE', 10], 'LOG': ['MSE', 20], 'CART': ['SSE', 30]}\n"
     ]
    }
   ],
   "source": [
    "dictionary[\"CART\"][1] = 30\n",
    "print(dictionary)"
   ]
  },
  {
   "cell_type": "markdown",
   "id": "32a58270-b709-4f3d-86dd-15d3e17e06d6",
   "metadata": {},
   "source": [
    "21- Sözlüğe yeni bir \"RF\" key değeri ekleyerek value'sunu [\"SSE\", 50] olarak tanımlayınız.  "
   ]
  },
  {
   "cell_type": "code",
   "execution_count": 34,
   "id": "2fd15691-56b3-4724-920b-3fb154fbb1f9",
   "metadata": {},
   "outputs": [
    {
     "name": "stdout",
     "output_type": "stream",
     "text": [
      "{'REG': ['RMSE', 10], 'LOG': ['MSE', 20], 'CART': ['SSE', 30], 'RF': ['SSE', 50]}\n"
     ]
    }
   ],
   "source": [
    "dictionary[\"RF\"] = [\"SSE\", 50]\n",
    "print(dictionary)"
   ]
  },
  {
   "cell_type": "markdown",
   "id": "bb2fcb9d-2101-4af8-a5ff-94820609524f",
   "metadata": {},
   "source": [
    "22- Aşağıda yer alan listeyi SET'e çeviriniz, \"set1\" adını veriniz ve içindeki eleman sayısını söyleyiniz. "
   ]
  },
  {
   "cell_type": "code",
   "execution_count": 35,
   "id": "1ec08309-674f-4d0c-afaf-78dbaecd738b",
   "metadata": {},
   "outputs": [
    {
     "name": "stdout",
     "output_type": "stream",
     "text": [
      "{'Ali', 'Mehmet', 10, 20, 'Ayşe'}\n"
     ]
    }
   ],
   "source": [
    "liste1 = [10, 20, 10, \"Ali\", 10, \"Ali\", \"Mehmet\", 20, \"Ayşe\" ]\n",
    "set1 = set(liste1)\n",
    "print(set1)"
   ]
  },
  {
   "cell_type": "markdown",
   "id": "db0e1841-c521-426f-ba47-38c3fa0d3a45",
   "metadata": {},
   "source": [
    "23- \"set1\" kümesinin içinden 5. eleman ile 7. elemanı çekiniz. "
   ]
  },
  {
   "cell_type": "code",
   "execution_count": null,
   "id": "6a72eb2f-e770-429f-9a0b-0956a05b3db5",
   "metadata": {},
   "outputs": [],
   "source": [
    "print(list(set1)[4])\n",
    "print(list(set1)[6])"
   ]
  },
  {
   "cell_type": "markdown",
   "id": "26a8ccb1-6f47-4ab1-8af1-30e49fca6a57",
   "metadata": {},
   "source": [
    "24- \"set1\" kümesinde yer alan \"Ali\" yerine \"Veli\" ve 10 yerini \"40\" değerlerini ekleyiniz.  "
   ]
  },
  {
   "cell_type": "code",
   "execution_count": null,
   "id": "8bce121d-c31f-4765-8a03-8c3c3937a83b",
   "metadata": {},
   "outputs": [],
   "source": [
    "set1.discard(\"Ali\")\n",
    "set1.add(\"Veli\")\n",
    "\n",
    "set1.discard(10)\n",
    "set1.add(40)"
   ]
  },
  {
   "cell_type": "markdown",
   "id": "dcc0cc95-ae87-4098-a6c5-0a11aa1a03d5",
   "metadata": {},
   "source": [
    "25- **ZOR SORU** aşağıda yer alan kümeler için soruları cevaplayınız. (Küme methodları kullanılabilir.)"
   ]
  },
  {
   "cell_type": "code",
   "execution_count": 22,
   "id": "14c1f0e3-022a-4ff9-a9d2-272c34df2e3c",
   "metadata": {},
   "outputs": [],
   "source": [
    "set1 = set([1, 3, 5])\n",
    "set2 = set([1, 2, 3])"
   ]
  },
  {
   "cell_type": "markdown",
   "id": "d9c66f31-e0ef-42c9-bca3-730c24ea2a2c",
   "metadata": {},
   "source": [
    "25.1- set1'de olup set2'de olmayanlar hangileridir? (difference())"
   ]
  },
  {
   "cell_type": "code",
   "execution_count": 38,
   "id": "2446aee8-032e-4406-9650-f04c63d8812a",
   "metadata": {},
   "outputs": [
    {
     "name": "stdout",
     "output_type": "stream",
     "text": [
      "{5}\n"
     ]
    }
   ],
   "source": [
    "print(set1.difference(set2))"
   ]
  },
  {
   "cell_type": "markdown",
   "id": "0983e4ae-89d7-4502-9c14-17e44233d702",
   "metadata": {},
   "source": [
    "25.2- set2'de olup set1'de olmayanlar hangileridir? (difference())"
   ]
  },
  {
   "cell_type": "code",
   "execution_count": 39,
   "id": "5df0d498-cf7f-410a-9f85-4cac08eae976",
   "metadata": {},
   "outputs": [
    {
     "name": "stdout",
     "output_type": "stream",
     "text": [
      "{2}\n"
     ]
    }
   ],
   "source": [
    "print(set2.difference(set1))"
   ]
  },
  {
   "cell_type": "markdown",
   "id": "a5a7587c-91c6-4879-b582-ae8871b8e69b",
   "metadata": {},
   "source": [
    "25.3- İki kümede de birbirlerine göre olmayanlar hangileridir? (symmetric_difference())"
   ]
  },
  {
   "cell_type": "code",
   "execution_count": 40,
   "id": "6e5cd789-22cd-4ee5-909a-868f917efa23",
   "metadata": {},
   "outputs": [
    {
     "name": "stdout",
     "output_type": "stream",
     "text": [
      "{2, 5}\n"
     ]
    }
   ],
   "source": [
    "print(set1.symmetric_difference(set2))"
   ]
  },
  {
   "cell_type": "markdown",
   "id": "c7d42cd1-c13d-4d4d-8076-3cab3e5e4791",
   "metadata": {},
   "source": [
    "25.4- İki kümenin kesişimi nedir? (intersection())"
   ]
  },
  {
   "cell_type": "code",
   "execution_count": 41,
   "id": "5cbb4bb1-55fb-48a6-8881-2316c8e864b9",
   "metadata": {},
   "outputs": [
    {
     "name": "stdout",
     "output_type": "stream",
     "text": [
      "{1, 3}\n"
     ]
    }
   ],
   "source": [
    "print(set2.intersection(set1)) "
   ]
  },
  {
   "cell_type": "markdown",
   "id": "51917b33-b708-4e02-aa1b-eb4053e45612",
   "metadata": {},
   "source": [
    "25.5- İki kümenin birleşimi nedir? (union())"
   ]
  },
  {
   "cell_type": "code",
   "execution_count": 42,
   "id": "58a81d72-5573-4c04-95a5-9e40145faa19",
   "metadata": {},
   "outputs": [
    {
     "name": "stdout",
     "output_type": "stream",
     "text": [
      "{1, 2, 3, 5}\n"
     ]
    }
   ],
   "source": [
    "print(set2.union(set1))"
   ]
  },
  {
   "cell_type": "markdown",
   "id": "223d3e00-95f8-43b7-898e-ab3a8908b4c9",
   "metadata": {},
   "source": [
    "25.6- İki kümenin kesişimi boş mudur? (isdisjoint())"
   ]
  },
  {
   "cell_type": "code",
   "execution_count": 23,
   "id": "740d4f40-e8a8-4e54-ae12-8b74ba28667a",
   "metadata": {},
   "outputs": [
    {
     "data": {
      "text/plain": [
       "False"
      ]
     },
     "execution_count": 23,
     "metadata": {},
     "output_type": "execute_result"
    }
   ],
   "source": [
    "set1.union(set2).isdisjoint(set2)"
   ]
  },
  {
   "cell_type": "markdown",
   "id": "30096636-70be-47f5-bddd-27db6587fd36",
   "metadata": {},
   "source": [
    "25.7- Bir küme diğer kümenin alt kümesi midir? (issubset())"
   ]
  },
  {
   "cell_type": "code",
   "execution_count": 44,
   "id": "753b864e-c415-4357-b7b4-76a24d6f716d",
   "metadata": {},
   "outputs": [
    {
     "name": "stdout",
     "output_type": "stream",
     "text": [
      "False\n"
     ]
    }
   ],
   "source": [
    "print(set1.issubset(set2))"
   ]
  },
  {
   "cell_type": "code",
   "execution_count": 45,
   "id": "ee5e6317-2fe6-4c7a-b40b-434fe1d28dbe",
   "metadata": {},
   "outputs": [
    {
     "name": "stdout",
     "output_type": "stream",
     "text": [
      "False\n"
     ]
    }
   ],
   "source": [
    "print(set2.issubset(set1))"
   ]
  },
  {
   "cell_type": "markdown",
   "id": "6c987f14-f2ec-46fd-a30a-92cdf0d68e59",
   "metadata": {},
   "source": [
    "25.8- Bir küme diğer kümeyi kapsıyor mudur? (isdisjoint())"
   ]
  },
  {
   "cell_type": "code",
   "execution_count": 46,
   "id": "38f4147c-e49d-452e-a235-525352e54e85",
   "metadata": {},
   "outputs": [
    {
     "name": "stdout",
     "output_type": "stream",
     "text": [
      "False\n"
     ]
    }
   ],
   "source": [
    "print(set1.isdisjoint(set2))"
   ]
  },
  {
   "cell_type": "code",
   "execution_count": 6,
   "id": "2cd821bc-4ae1-482c-877a-50e163045e24",
   "metadata": {
    "tags": []
   },
   "outputs": [],
   "source": [
    "maaslar = [1000,2000,3000,4000,5000]"
   ]
  },
  {
   "cell_type": "markdown",
   "id": "7f98af2c-26bf-4e7f-90c6-b9cb108aa234",
   "metadata": {},
   "source": [
    "26- Maaslara yuzde 20 zam yaparak zamlı_maaslar listesine atayınız. (Function, For kullanarak)"
   ]
  },
  {
   "cell_type": "code",
   "execution_count": 30,
   "id": "c4a9951b-c4e4-4644-bc6d-cbeac0326dd9",
   "metadata": {},
   "outputs": [
    {
     "data": {
      "text/plain": [
       "[1200.0, 2400.0, 3600.0, 4800.0, 6000.0]"
      ]
     },
     "execution_count": 30,
     "metadata": {},
     "output_type": "execute_result"
    }
   ],
   "source": [
    "maaslar = [1000,2000,3000,4000,5000]\n",
    "zamlı_maaslar = []\n",
    "def zam(x):\n",
    "    return  x + (x*20)/100\n",
    "for i in (maaslar):\n",
    "    new = zam(i)\n",
    "    zamlı_maaslar.append(new)\n",
    "zamlı_maaslar"
   ]
  },
  {
   "cell_type": "markdown",
   "id": "3f110d62-a678-4067-a798-7ed68df5190c",
   "metadata": {},
   "source": [
    "27- zamlı_maaslar listesinden 2500 TL altındakileriden 50 TL vergi; 2500 TL  üzerindekilerden 100 TL vergi kesiniz. (Function, For, If kullanarak)"
   ]
  },
  {
   "cell_type": "code",
   "execution_count": 31,
   "id": "1f1f1c1c-f5ec-4e45-a05e-add1e73b478d",
   "metadata": {},
   "outputs": [
    {
     "data": {
      "text/plain": [
       "[1150.0, 2350.0, 3500.0, 4700.0, 5900.0]"
      ]
     },
     "execution_count": 31,
     "metadata": {},
     "output_type": "execute_result"
    }
   ],
   "source": [
    "def vergi(num):\n",
    "    if num < 2500:\n",
    "        num = num - 50\n",
    "    else:\n",
    "        num -= 100\n",
    "    return num\n",
    "\n",
    "for i in range(len(maaslar)):\n",
    "    zamlı_maaslar[i] = vergi(zamlı_maaslar[i])\n",
    "zamlı_maaslar"
   ]
  },
  {
   "cell_type": "code",
   "execution_count": 32,
   "id": "4599a095-5edd-488a-aedd-0117f26e1538",
   "metadata": {
    "tags": []
   },
   "outputs": [],
   "source": [
    "students = [\"John\", \"Mark\", \"Venessa\", \"Mariam\"]"
   ]
  },
  {
   "cell_type": "markdown",
   "id": "00f9cc91-e415-4a26-b594-a227428f81e2",
   "metadata": {},
   "source": [
    "28- Listedeki öğrencileri index numaralarına göre iki gruba tek bir listede return edecek bir fonksiyonla yapınız."
   ]
  },
  {
   "cell_type": "code",
   "execution_count": 35,
   "id": "2c55cf8c-93a3-4438-a483-03eec242c974",
   "metadata": {},
   "outputs": [
    {
     "name": "stdout",
     "output_type": "stream",
     "text": [
      "0 John\n",
      "1 Mark\n",
      "2 Venessa\n",
      "3 Mariam\n",
      "['John', 'Venessa']\n",
      "['Mark', 'Mariam']\n"
     ]
    }
   ],
   "source": [
    "even = [] #cift sayılı\n",
    "odd = []  #tek sayılı\n",
    "for index, student in enumerate(students):\n",
    "    print(index, student)\n",
    "    if index % 2 == 0:\n",
    "        even.append(student)\n",
    "    else:\n",
    "        odd.append(student)\n",
    "        \n",
    "print(even)\n",
    "print(odd)"
   ]
  },
  {
   "cell_type": "markdown",
   "id": "1cb1ed9b-9c8e-4f06-8e50-687d49321608",
   "metadata": {},
   "source": [
    "29- Aşağıdaki şekilde string'i değiştirecek bir fonksiyon yazınız.\n",
    "\n",
    "    before: \"hi my name is john and i am learning python\"\n",
    "\n",
    "    after: \"Hi mY NaMe iS JoHn aNd i aM LeArNiNg pYtHoN\"\n"
   ]
  },
  {
   "cell_type": "code",
   "execution_count": 51,
   "id": "b500b502-2f80-48ac-95ba-a44b7400a4bc",
   "metadata": {},
   "outputs": [
    {
     "name": "stdout",
     "output_type": "stream",
     "text": [
      "Hi mY NaMe iS JoHn aNd i aM LeArNiNg pYtHoN\n"
     ]
    }
   ],
   "source": [
    "def changing(letter):\n",
    "    new_str = \"\"\n",
    "    for i in range(len(letter)):\n",
    "        if i % 2 == 0:\n",
    "            new_str += letter[i].upper()\n",
    "        else:\n",
    "            new_str += letter[i].lower()\n",
    "\n",
    "    print(new_str)\n",
    "\n",
    "changing(\"hi my name is john and i am learning python\")"
   ]
  },
  {
   "cell_type": "code",
   "execution_count": 8,
   "id": "d62174a5-7e59-4b34-87b2-44abed242a82",
   "metadata": {},
   "outputs": [
    {
     "name": "stdout",
     "output_type": "stream",
     "text": [
      "Hi mY NaMe iS JoHn aNd i aM LeArNiNg pYtHoN\n"
     ]
    }
   ],
   "source": [
    "def alternating(string):\n",
    "    new_string = \"\"\n",
    "\n",
    "    for string_index in range(len(string)):\n",
    "        if string_index % 2 == 0:\n",
    "            new_string += string[string_index].upper()\n",
    "        else:\n",
    "            new_string += string[string_index].lower()\n",
    "\n",
    "    print(new_string)\n",
    "\n",
    "alternating(\"hi my name is john and i am learning python\")"
   ]
  },
  {
   "cell_type": "markdown",
   "id": "5ffd1e11-7854-4d30-b7ca-3dfba89f306d",
   "metadata": {},
   "source": [
    "30- Yukarıda yer alan fonksiyonu enumerate kullanarak yeniden yazınız."
   ]
  },
  {
   "cell_type": "code",
   "execution_count": 36,
   "id": "29538eb6-6bea-4149-bd2e-328777f4b528",
   "metadata": {},
   "outputs": [
    {
     "name": "stdout",
     "output_type": "stream",
     "text": [
      "Hi mY NaMe iS JoHn aNd i aM LeArNiNg pYtHoN\n"
     ]
    }
   ],
   "source": [
    "def alternating(string):\n",
    "    new_string = \"\"\n",
    "\n",
    "    for string_index, string in enumerate(string):\n",
    "        if string_index % 2 == 0:\n",
    "            new_string += string.upper()\n",
    "        else:\n",
    "            new_string += string.lower()\n",
    "\n",
    "    print(new_string)\n",
    "\n",
    "alternating(\"hi my name is john and i am learning python\")"
   ]
  },
  {
   "cell_type": "markdown",
   "id": "5bebf11b-b33e-4bc7-a7be-786501dfa89c",
   "metadata": {},
   "source": [
    "31-Kullanıcıdan ismini ve yasını alacak bir fonksiyon olusturunuz. \n",
    "Fonksiyon çıktısı aşağıdaki şekilde olmalı:\n",
    "\n",
    "    Merhaba benim ismim X,\n",
    "    Y yasındayım!"
   ]
  },
  {
   "cell_type": "code",
   "execution_count": 40,
   "id": "d49c49bd-3671-43b8-8f6c-98ec8656655d",
   "metadata": {},
   "outputs": [
    {
     "name": "stdin",
     "output_type": "stream",
     "text": [
      " Rumeysa\n",
      " 22\n"
     ]
    },
    {
     "name": "stdout",
     "output_type": "stream",
     "text": [
      "Merhaba benim ismim Rumeysa, \n",
      "22 yasındayım!\n"
     ]
    }
   ],
   "source": [
    "X = str(input())\n",
    "Y = int(input())\n",
    "print(\"Merhaba benim ismim {}, \\n{} yasındayım!\".format(X, Y))"
   ]
  },
  {
   "cell_type": "code",
   "execution_count": null,
   "id": "a0825f59-5db7-46d7-8d23-882232d03f24",
   "metadata": {},
   "outputs": [],
   "source": []
  }
 ],
 "metadata": {
  "kernelspec": {
   "display_name": "Python 3 (ipykernel)",
   "language": "python",
   "name": "python3"
  },
  "language_info": {
   "codemirror_mode": {
    "name": "ipython",
    "version": 3
   },
   "file_extension": ".py",
   "mimetype": "text/x-python",
   "name": "python",
   "nbconvert_exporter": "python",
   "pygments_lexer": "ipython3",
   "version": "3.9.7"
  }
 },
 "nbformat": 4,
 "nbformat_minor": 5
}
